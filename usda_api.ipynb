{
 "cells": [
  {
   "cell_type": "code",
   "execution_count": 87,
   "metadata": {},
   "outputs": [],
   "source": [
    "import pandas as pd\n",
    "from nasspython import nass_api as na\n",
    "# pip install nasspython: https://pypi.org/project/nasspython/"
   ]
  },
  {
   "cell_type": "code",
   "execution_count": 88,
   "metadata": {},
   "outputs": [],
   "source": [
    "USDA_API_KEY = 'C6C2F629-A5BF-3F27-916A-4F15189AD588'"
   ]
  },
  {
   "cell_type": "code",
   "execution_count": 89,
   "metadata": {},
   "outputs": [],
   "source": [
    "#na.nass_count(USDA_API_KEY, state_name = \"NORTH CAROLINA\", county_name = \"WAKE\")\n",
    "#na.nass_param(USDA_API_KEY, param = \"short_desc\")\n",
    "#na.nass_data(USDA_API_KEY, year = 2012, agg_level_desc = \"COUNTY\",short_desc = \"AG LAND, INCL BUILDINGS - ASSET VALUE, MEASURED IN $\")"
   ]
  },
  {
   "cell_type": "code",
   "execution_count": 90,
   "metadata": {},
   "outputs": [],
   "source": [
    "# function inputs\n",
    "state = 'MISSOURI'\n",
    "start_yr = 2010\n",
    "end_yr = 2020"
   ]
  },
  {
   "cell_type": "code",
   "execution_count": 91,
   "metadata": {},
   "outputs": [
    {
     "data": {
      "text/plain": [
       "[2010, 2011, 2012, 2013, 2014, 2015, 2016, 2017, 2018, 2019, 2020]"
      ]
     },
     "execution_count": 91,
     "metadata": {},
     "output_type": "execute_result"
    }
   ],
   "source": [
    "# create list for years\n",
    "year_list = [start_yr]\n",
    "year = start_yr\n",
    "while year < end_yr:\n",
    "    year += 1\n",
    "    year_list.append(year)\n",
    "year_list "
   ]
  },
  {
   "cell_type": "code",
   "execution_count": 92,
   "metadata": {},
   "outputs": [
    {
     "data": {
      "text/html": [
       "<div>\n",
       "<style scoped>\n",
       "    .dataframe tbody tr th:only-of-type {\n",
       "        vertical-align: middle;\n",
       "    }\n",
       "\n",
       "    .dataframe tbody tr th {\n",
       "        vertical-align: top;\n",
       "    }\n",
       "\n",
       "    .dataframe thead th {\n",
       "        text-align: right;\n",
       "    }\n",
       "</style>\n",
       "<table border=\"1\" class=\"dataframe\">\n",
       "  <thead>\n",
       "    <tr style=\"text-align: right;\">\n",
       "      <th></th>\n",
       "      <th>$/acre</th>\n",
       "    </tr>\n",
       "    <tr>\n",
       "      <th>Year</th>\n",
       "      <th></th>\n",
       "    </tr>\n",
       "  </thead>\n",
       "  <tbody>\n",
       "    <tr>\n",
       "      <th>2010</th>\n",
       "      <td>2,600</td>\n",
       "    </tr>\n",
       "    <tr>\n",
       "      <th>2011</th>\n",
       "      <td>2,790</td>\n",
       "    </tr>\n",
       "    <tr>\n",
       "      <th>2012</th>\n",
       "      <td>3,120</td>\n",
       "    </tr>\n",
       "    <tr>\n",
       "      <th>2013</th>\n",
       "      <td>3,500</td>\n",
       "    </tr>\n",
       "    <tr>\n",
       "      <th>2014</th>\n",
       "      <td>3,750</td>\n",
       "    </tr>\n",
       "    <tr>\n",
       "      <th>2015</th>\n",
       "      <td>3,680</td>\n",
       "    </tr>\n",
       "    <tr>\n",
       "      <th>2016</th>\n",
       "      <td>3,570</td>\n",
       "    </tr>\n",
       "    <tr>\n",
       "      <th>2017</th>\n",
       "      <td>3,560</td>\n",
       "    </tr>\n",
       "    <tr>\n",
       "      <th>2018</th>\n",
       "      <td>3,490</td>\n",
       "    </tr>\n",
       "    <tr>\n",
       "      <th>2019</th>\n",
       "      <td>3,490</td>\n",
       "    </tr>\n",
       "    <tr>\n",
       "      <th>2020</th>\n",
       "      <td>3,530</td>\n",
       "    </tr>\n",
       "  </tbody>\n",
       "</table>\n",
       "</div>"
      ],
      "text/plain": [
       "     $/acre\n",
       "Year       \n",
       "2010  2,600\n",
       "2011  2,790\n",
       "2012  3,120\n",
       "2013  3,500\n",
       "2014  3,750\n",
       "2015  3,680\n",
       "2016  3,570\n",
       "2017  3,560\n",
       "2018  3,490\n",
       "2019  3,490\n",
       "2020  3,530"
      ]
     },
     "execution_count": 92,
     "metadata": {},
     "output_type": "execute_result"
    }
   ],
   "source": [
    "vpa_list = []\n",
    "for yr in year_list:\n",
    "    # total acres: 'AG LAND, CROPLAND, HARVESTED - ACRES'\n",
    "    # value per acre: 'AG LAND, CROPLAND - ASSET VALUE, MEASURED IN $ / ACRE'\n",
    "    data = na.nass_data(USDA_API_KEY, year = yr, \n",
    "                        agg_level_desc = \"STATE\", \n",
    "                        short_desc = \"AG LAND, CROPLAND - ASSET VALUE, MEASURED IN $ / ACRE\"\n",
    "                       )\n",
    "    df = pd.DataFrame(data['data']).set_index(\"state_name\")\n",
    "    vpa = df.loc[state,'Value']\n",
    "    vpa_list.append(vpa)\n",
    "vpa_list\n",
    "df = pd.DataFrame({'Year':year_list,'$/acre':vpa_list}).set_index('Year')\n",
    "df"
   ]
  },
  {
   "cell_type": "code",
   "execution_count": null,
   "metadata": {},
   "outputs": [],
   "source": []
  }
 ],
 "metadata": {
  "kernelspec": {
   "display_name": "Python 3",
   "language": "python",
   "name": "python3"
  },
  "language_info": {
   "codemirror_mode": {
    "name": "ipython",
    "version": 3
   },
   "file_extension": ".py",
   "mimetype": "text/x-python",
   "name": "python",
   "nbconvert_exporter": "python",
   "pygments_lexer": "ipython3",
   "version": "3.7.9"
  }
 },
 "nbformat": 4,
 "nbformat_minor": 4
}
