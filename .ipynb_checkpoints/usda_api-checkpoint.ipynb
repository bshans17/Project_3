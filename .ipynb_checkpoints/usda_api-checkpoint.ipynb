{
 "cells": [
  {
   "cell_type": "code",
   "execution_count": 17,
   "metadata": {},
   "outputs": [],
   "source": [
    "import pandas as pd\n",
    "from nasspython import nass_api as na\n",
    "# pip install nasspython: https://pypi.org/project/nasspython/\n",
    "from statsmodels.tsa.arima_model import ARIMA\n",
    "from pathlib import Path\n",
    "import datetime as dt"
   ]
  },
  {
   "cell_type": "code",
   "execution_count": 63,
   "metadata": {},
   "outputs": [],
   "source": [
    "USDA_API_KEY = 'C6C2F629-A5BF-3F27-916A-4F15189AD588'\n",
    "\n",
    "#na.nass_count(USDA_API_KEY, state_name = \"NORTH CAROLINA\", county_name = \"WAKE\")\n",
    "#na.nass_param(USDA_API_KEY, param = \"short_desc\")\n",
    "#na.nass_data(USDA_API_KEY, year = 2012, agg_level_desc = \"COUNTY\",short_desc = \"AG LAND, INCL BUILDINGS - ASSET VALUE, MEASURED IN $\")\n",
    "\n",
    "# function inputs\n",
    "# NY/NJ/PA\n",
    "state_list = ['NEW YORK','NEW JERSEY','PENNSYLVANIA']\n",
    "start_yr = 2000\n",
    "end_yr = 2020"
   ]
  },
  {
   "cell_type": "code",
   "execution_count": 64,
   "metadata": {},
   "outputs": [
    {
     "data": {
      "text/plain": [
       "[2000,\n",
       " 2001,\n",
       " 2002,\n",
       " 2003,\n",
       " 2004,\n",
       " 2005,\n",
       " 2006,\n",
       " 2007,\n",
       " 2008,\n",
       " 2009,\n",
       " 2010,\n",
       " 2011,\n",
       " 2012,\n",
       " 2013,\n",
       " 2014,\n",
       " 2015,\n",
       " 2016,\n",
       " 2017,\n",
       " 2018,\n",
       " 2019,\n",
       " 2020]"
      ]
     },
     "execution_count": 64,
     "metadata": {},
     "output_type": "execute_result"
    }
   ],
   "source": [
    "# create list for years\n",
    "year_list = [start_yr]\n",
    "year = start_yr\n",
    "while year < end_yr:\n",
    "    year += 1\n",
    "    year_list.append(year)\n",
    "year_list"
   ]
  },
  {
   "cell_type": "code",
   "execution_count": 65,
   "metadata": {},
   "outputs": [
    {
     "data": {
      "text/plain": [
       "[1180,\n",
       " 8400,\n",
       " 3000,\n",
       " 1250,\n",
       " 8700,\n",
       " 3180,\n",
       " 1320,\n",
       " 9000,\n",
       " 3350,\n",
       " 1390,\n",
       " 9300,\n",
       " 3500,\n",
       " 1460,\n",
       " 11300,\n",
       " 3600,\n",
       " 1520,\n",
       " 13000,\n",
       " 4030,\n",
       " 1800,\n",
       " 14900,\n",
       " 4680,\n",
       " 1900,\n",
       " 16000,\n",
       " 5330,\n",
       " 2150,\n",
       " 15600,\n",
       " 6000,\n",
       " 2200,\n",
       " 14000,\n",
       " 5720,\n",
       " 2400,\n",
       " 13300,\n",
       " 5710,\n",
       " 2400,\n",
       " 12900,\n",
       " 5630,\n",
       " 2600,\n",
       " 12400,\n",
       " 5760,\n",
       " 2550,\n",
       " 12900,\n",
       " 5840,\n",
       " 2570,\n",
       " 13200,\n",
       " 5950,\n",
       " 2680,\n",
       " 13800,\n",
       " 6130,\n",
       " 2690,\n",
       " 13500,\n",
       " 6450,\n",
       " 2740,\n",
       " 13600,\n",
       " 6470,\n",
       " 2800,\n",
       " 13700,\n",
       " 6890,\n",
       " 2810,\n",
       " 13700,\n",
       " 7030,\n",
       " 2800,\n",
       " 13800,\n",
       " 7100]"
      ]
     },
     "execution_count": 65,
     "metadata": {},
     "output_type": "execute_result"
    }
   ],
   "source": [
    "vpa_list = []\n",
    "year_list_new = []\n",
    "state_list_new = []\n",
    "for yr in year_list:\n",
    "    # total acres: 'AG LAND, CROPLAND, HARVESTED - ACRES'\n",
    "    # value per acre: 'AG LAND, CROPLAND - ASSET VALUE, MEASURED IN $ / ACRE'\n",
    "    data = na.nass_data(USDA_API_KEY, year = yr, \n",
    "                        agg_level_desc = \"STATE\", \n",
    "                        short_desc = \"AG LAND, CROPLAND - ASSET VALUE, MEASURED IN $ / ACRE\"\n",
    "                       )\n",
    "    df = pd.DataFrame(data['data']).set_index(\"state_name\")\n",
    "    \n",
    "    for state in state_list:\n",
    "        vpa = df.loc[state,'Value']\n",
    "    \n",
    "        vpaint = ''\n",
    "        for char in vpa:\n",
    "            if char.isdigit() == True:\n",
    "                vpaint = vpaint + char\n",
    "        \n",
    "        vpa_list.append(int(vpaint))\n",
    "        year_list_new.append(yr)\n",
    "        state_list_new.append(state)\n",
    "        \n",
    "#df = pd.DataFrame({'Year':year_list,'$/acre':vpa_list}).set_index('Year')\n",
    "#df\n",
    "vpa_list"
   ]
  },
  {
   "cell_type": "code",
   "execution_count": 66,
   "metadata": {},
   "outputs": [
    {
     "data": {
      "text/html": [
       "<div>\n",
       "<style scoped>\n",
       "    .dataframe tbody tr th:only-of-type {\n",
       "        vertical-align: middle;\n",
       "    }\n",
       "\n",
       "    .dataframe tbody tr th {\n",
       "        vertical-align: top;\n",
       "    }\n",
       "\n",
       "    .dataframe thead th {\n",
       "        text-align: right;\n",
       "    }\n",
       "</style>\n",
       "<table border=\"1\" class=\"dataframe\">\n",
       "  <thead>\n",
       "    <tr style=\"text-align: right;\">\n",
       "      <th></th>\n",
       "      <th>Year</th>\n",
       "      <th>PAValuePerAcre</th>\n",
       "      <th>NYValuePerAcre</th>\n",
       "      <th>NJValuePerAcre</th>\n",
       "    </tr>\n",
       "  </thead>\n",
       "  <tbody>\n",
       "    <tr>\n",
       "      <th>0</th>\n",
       "      <td>2000</td>\n",
       "      <td>3000</td>\n",
       "      <td>1180</td>\n",
       "      <td>8400</td>\n",
       "    </tr>\n",
       "    <tr>\n",
       "      <th>1</th>\n",
       "      <td>2001</td>\n",
       "      <td>3180</td>\n",
       "      <td>1250</td>\n",
       "      <td>8700</td>\n",
       "    </tr>\n",
       "    <tr>\n",
       "      <th>2</th>\n",
       "      <td>2002</td>\n",
       "      <td>3350</td>\n",
       "      <td>1320</td>\n",
       "      <td>9000</td>\n",
       "    </tr>\n",
       "    <tr>\n",
       "      <th>3</th>\n",
       "      <td>2003</td>\n",
       "      <td>3500</td>\n",
       "      <td>1390</td>\n",
       "      <td>9300</td>\n",
       "    </tr>\n",
       "    <tr>\n",
       "      <th>4</th>\n",
       "      <td>2004</td>\n",
       "      <td>3600</td>\n",
       "      <td>1460</td>\n",
       "      <td>11300</td>\n",
       "    </tr>\n",
       "    <tr>\n",
       "      <th>5</th>\n",
       "      <td>2005</td>\n",
       "      <td>4030</td>\n",
       "      <td>1520</td>\n",
       "      <td>13000</td>\n",
       "    </tr>\n",
       "    <tr>\n",
       "      <th>6</th>\n",
       "      <td>2006</td>\n",
       "      <td>4680</td>\n",
       "      <td>1800</td>\n",
       "      <td>14900</td>\n",
       "    </tr>\n",
       "    <tr>\n",
       "      <th>7</th>\n",
       "      <td>2007</td>\n",
       "      <td>5330</td>\n",
       "      <td>1900</td>\n",
       "      <td>16000</td>\n",
       "    </tr>\n",
       "    <tr>\n",
       "      <th>8</th>\n",
       "      <td>2008</td>\n",
       "      <td>6000</td>\n",
       "      <td>2150</td>\n",
       "      <td>15600</td>\n",
       "    </tr>\n",
       "    <tr>\n",
       "      <th>9</th>\n",
       "      <td>2009</td>\n",
       "      <td>5720</td>\n",
       "      <td>2200</td>\n",
       "      <td>14000</td>\n",
       "    </tr>\n",
       "    <tr>\n",
       "      <th>10</th>\n",
       "      <td>2010</td>\n",
       "      <td>5710</td>\n",
       "      <td>2400</td>\n",
       "      <td>13300</td>\n",
       "    </tr>\n",
       "    <tr>\n",
       "      <th>11</th>\n",
       "      <td>2011</td>\n",
       "      <td>5630</td>\n",
       "      <td>2400</td>\n",
       "      <td>12900</td>\n",
       "    </tr>\n",
       "    <tr>\n",
       "      <th>12</th>\n",
       "      <td>2012</td>\n",
       "      <td>5760</td>\n",
       "      <td>2600</td>\n",
       "      <td>12400</td>\n",
       "    </tr>\n",
       "    <tr>\n",
       "      <th>13</th>\n",
       "      <td>2013</td>\n",
       "      <td>5840</td>\n",
       "      <td>2550</td>\n",
       "      <td>12900</td>\n",
       "    </tr>\n",
       "    <tr>\n",
       "      <th>14</th>\n",
       "      <td>2014</td>\n",
       "      <td>5950</td>\n",
       "      <td>2570</td>\n",
       "      <td>13200</td>\n",
       "    </tr>\n",
       "    <tr>\n",
       "      <th>15</th>\n",
       "      <td>2015</td>\n",
       "      <td>6130</td>\n",
       "      <td>2680</td>\n",
       "      <td>13800</td>\n",
       "    </tr>\n",
       "    <tr>\n",
       "      <th>16</th>\n",
       "      <td>2016</td>\n",
       "      <td>6450</td>\n",
       "      <td>2690</td>\n",
       "      <td>13500</td>\n",
       "    </tr>\n",
       "    <tr>\n",
       "      <th>17</th>\n",
       "      <td>2017</td>\n",
       "      <td>6470</td>\n",
       "      <td>2740</td>\n",
       "      <td>13600</td>\n",
       "    </tr>\n",
       "    <tr>\n",
       "      <th>18</th>\n",
       "      <td>2018</td>\n",
       "      <td>6890</td>\n",
       "      <td>2800</td>\n",
       "      <td>13700</td>\n",
       "    </tr>\n",
       "    <tr>\n",
       "      <th>19</th>\n",
       "      <td>2019</td>\n",
       "      <td>7030</td>\n",
       "      <td>2810</td>\n",
       "      <td>13700</td>\n",
       "    </tr>\n",
       "    <tr>\n",
       "      <th>20</th>\n",
       "      <td>2020</td>\n",
       "      <td>7100</td>\n",
       "      <td>2800</td>\n",
       "      <td>13800</td>\n",
       "    </tr>\n",
       "  </tbody>\n",
       "</table>\n",
       "</div>"
      ],
      "text/plain": [
       "    Year  PAValuePerAcre  NYValuePerAcre  NJValuePerAcre\n",
       "0   2000            3000            1180            8400\n",
       "1   2001            3180            1250            8700\n",
       "2   2002            3350            1320            9000\n",
       "3   2003            3500            1390            9300\n",
       "4   2004            3600            1460           11300\n",
       "5   2005            4030            1520           13000\n",
       "6   2006            4680            1800           14900\n",
       "7   2007            5330            1900           16000\n",
       "8   2008            6000            2150           15600\n",
       "9   2009            5720            2200           14000\n",
       "10  2010            5710            2400           13300\n",
       "11  2011            5630            2400           12900\n",
       "12  2012            5760            2600           12400\n",
       "13  2013            5840            2550           12900\n",
       "14  2014            5950            2570           13200\n",
       "15  2015            6130            2680           13800\n",
       "16  2016            6450            2690           13500\n",
       "17  2017            6470            2740           13600\n",
       "18  2018            6890            2800           13700\n",
       "19  2019            7030            2810           13700\n",
       "20  2020            7100            2800           13800"
      ]
     },
     "execution_count": 66,
     "metadata": {},
     "output_type": "execute_result"
    }
   ],
   "source": [
    "dict = {'Year': year_list_new, 'State': state_list_new, 'ValuePerAcre': vpa_list}\n",
    "land_df = pd.DataFrame(dict)\n",
    "pa_vpa = land_df[land_df['State'] == 'PENNSYLVANIA']['ValuePerAcre'].tolist()\n",
    "ny_vpa = land_df[land_df['State'] == 'NEW YORK']['ValuePerAcre'].tolist()\n",
    "nj_vpa = land_df[land_df['State'] == 'NEW JERSEY']['ValuePerAcre'].tolist()\n",
    "\n",
    "dict = {'Year': year_list, 'PAValuePerAcre': pa_vpa, 'NYValuePerAcre': ny_vpa, 'NJValuePerAcre': nj_vpa}\n",
    "st_land_df = pd.DataFrame(dict)\n",
    "#land_df.set_index('Year',inplace = True)\n",
    "#land_df.groupby('Year').mean()\n",
    "st_land_df"
   ]
  },
  {
   "cell_type": "code",
   "execution_count": 68,
   "metadata": {},
   "outputs": [
    {
     "data": {
      "text/plain": [
       "<AxesSubplot:xlabel='Year'>"
      ]
     },
     "execution_count": 68,
     "metadata": {},
     "output_type": "execute_result"
    },
    {
     "data": {
      "image/png": "[encoded data removed]",
      "text/plain": [
       "<Figure size 432x288 with 1 Axes>"
      ]
     },
     "metadata": {
      "needs_background": "light"
     },
     "output_type": "display_data"
    }
   ],
   "source": [
    "st_land_df = st_land_df.set_index('Year')\n",
    "st_land_df.plot()"
   ]
  },
  {
   "cell_type": "code",
   "execution_count": 80,
   "metadata": {},
   "outputs": [
    {
     "name": "stderr",
     "output_type": "stream",
     "text": [
      "C:\\Users\\adomenick\\anaconda3\\lib\\site-packages\\statsmodels\\tsa\\arima_model.py:472: FutureWarning: \n",
      "statsmodels.tsa.arima_model.ARMA and statsmodels.tsa.arima_model.ARIMA have\n",
      "been deprecated in favor of statsmodels.tsa.arima.model.ARIMA (note the .\n",
      "between arima and model) and\n",
      "statsmodels.tsa.SARIMAX. These will be removed after the 0.12 release.\n",
      "\n",
      "statsmodels.tsa.arima.model.ARIMA makes use of the statespace framework and\n",
      "is both well tested and maintained.\n",
      "\n",
      "To silence this warning and continue using ARMA and ARIMA until they are\n",
      "removed, use:\n",
      "\n",
      "import warnings\n",
      "warnings.filterwarnings('ignore', 'statsmodels.tsa.arima_model.ARMA',\n",
      "                        FutureWarning)\n",
      "warnings.filterwarnings('ignore', 'statsmodels.tsa.arima_model.ARIMA',\n",
      "                        FutureWarning)\n",
      "\n",
      "  warnings.warn(ARIMA_DEPRECATION_WARN, FutureWarning)\n",
      "C:\\Users\\adomenick\\anaconda3\\lib\\site-packages\\statsmodels\\tsa\\base\\tsa_model.py:579: ValueWarning: An unsupported index was provided and will be ignored when e.g. forecasting.\n",
      "  ' ignored when e.g. forecasting.', ValueWarning)\n",
      "C:\\Users\\adomenick\\anaconda3\\lib\\site-packages\\statsmodels\\tsa\\base\\tsa_model.py:579: ValueWarning: An unsupported index was provided and will be ignored when e.g. forecasting.\n",
      "  ' ignored when e.g. forecasting.', ValueWarning)\n"
     ]
    },
    {
     "data": {
      "text/html": [
       "<table class=\"simpletable\">\n",
       "<caption>ARIMA Model Results</caption>\n",
       "<tr>\n",
       "  <th>Dep. Variable:</th> <td>D.PAValuePerAcre</td> <th>  No. Observations:  </th>    <td>20</td>   \n",
       "</tr>\n",
       "<tr>\n",
       "  <th>Model:</th>          <td>ARIMA(0, 1, 1)</td>  <th>  Log Likelihood     </th> <td>-137.344</td>\n",
       "</tr>\n",
       "<tr>\n",
       "  <th>Method:</th>             <td>css-mle</td>     <th>  S.D. of innovations</th>  <td>231.947</td>\n",
       "</tr>\n",
       "<tr>\n",
       "  <th>Date:</th>          <td>Sat, 13 Mar 2021</td> <th>  AIC                </th>  <td>280.688</td>\n",
       "</tr>\n",
       "<tr>\n",
       "  <th>Time:</th>              <td>15:58:51</td>     <th>  BIC                </th>  <td>283.675</td>\n",
       "</tr>\n",
       "<tr>\n",
       "  <th>Sample:</th>                <td>1</td>        <th>  HQIC               </th>  <td>281.271</td>\n",
       "</tr>\n",
       "<tr>\n",
       "  <th></th>                       <td> </td>        <th>                     </th>     <td> </td>   \n",
       "</tr>\n",
       "</table>\n",
       "<table class=\"simpletable\">\n",
       "<tr>\n",
       "             <td></td>               <th>coef</th>     <th>std err</th>      <th>z</th>      <th>P>|z|</th>  <th>[0.025</th>    <th>0.975]</th>  \n",
       "</tr>\n",
       "<tr>\n",
       "  <th>const</th>                  <td>  203.5086</td> <td>   64.716</td> <td>    3.145</td> <td> 0.002</td> <td>   76.668</td> <td>  330.350</td>\n",
       "</tr>\n",
       "<tr>\n",
       "  <th>ma.L1.D.PAValuePerAcre</th> <td>    0.2606</td> <td>    0.174</td> <td>    1.499</td> <td> 0.134</td> <td>   -0.080</td> <td>    0.601</td>\n",
       "</tr>\n",
       "</table>\n",
       "<table class=\"simpletable\">\n",
       "<caption>Roots</caption>\n",
       "<tr>\n",
       "    <td></td>   <th>            Real</th>  <th>         Imaginary</th> <th>         Modulus</th>  <th>        Frequency</th>\n",
       "</tr>\n",
       "<tr>\n",
       "  <th>MA.1</th> <td>          -3.8375</td> <td>          +0.0000j</td> <td>           3.8375</td> <td>           0.5000</td>\n",
       "</tr>\n",
       "</table>"
      ],
      "text/plain": [
       "<class 'statsmodels.iolib.summary.Summary'>\n",
       "\"\"\"\n",
       "                             ARIMA Model Results                              \n",
       "==============================================================================\n",
       "Dep. Variable:       D.PAValuePerAcre   No. Observations:                   20\n",
       "Model:                 ARIMA(0, 1, 1)   Log Likelihood                -137.344\n",
       "Method:                       css-mle   S.D. of innovations            231.947\n",
       "Date:                Sat, 13 Mar 2021   AIC                            280.688\n",
       "Time:                        15:58:51   BIC                            283.675\n",
       "Sample:                             1   HQIC                           281.271\n",
       "                                                                              \n",
       "==========================================================================================\n",
       "                             coef    std err          z      P>|z|      [0.025      0.975]\n",
       "------------------------------------------------------------------------------------------\n",
       "const                    203.5086     64.716      3.145      0.002      76.668     330.350\n",
       "ma.L1.D.PAValuePerAcre     0.2606      0.174      1.499      0.134      -0.080       0.601\n",
       "                                    Roots                                    \n",
       "=============================================================================\n",
       "                  Real          Imaginary           Modulus         Frequency\n",
       "-----------------------------------------------------------------------------\n",
       "MA.1           -3.8375           +0.0000j            3.8375            0.5000\n",
       "-----------------------------------------------------------------------------\n",
       "\"\"\""
      ]
     },
     "execution_count": 80,
     "metadata": {},
     "output_type": "execute_result"
    }
   ],
   "source": [
    "model = ARIMA(st_land_df['PAValuePerAcre'], order=(0, 1, 1))\n",
    "results = model.fit()\n",
    "results.summary()"
   ]
  },
  {
   "cell_type": "code",
   "execution_count": 86,
   "metadata": {},
   "outputs": [
    {
     "data": {
      "text/plain": [
       "<AxesSubplot:title={'center':'Farmland $ per Acre'}>"
      ]
     },
     "execution_count": 86,
     "metadata": {},
     "output_type": "execute_result"
    },
    {
     "data": {
      "image/png": "[encoded data removed]",
      "text/plain": [
       "<Figure size 432x288 with 1 Axes>"
      ]
     },
     "metadata": {
      "needs_background": "light"
     },
     "output_type": "display_data"
    }
   ],
   "source": [
    "predict_df = pd.DataFrame(results.forecast(steps=2)[0])\n",
    "predict_df.plot(title=\"Farmland $ per Acre\")"
   ]
  },
  {
   "cell_type": "code",
   "execution_count": 97,
   "metadata": {},
   "outputs": [
    {
     "data": {
      "text/plain": [
       "7481.35867200686"
      ]
     },
     "execution_count": 97,
     "metadata": {},
     "output_type": "execute_result"
    }
   ],
   "source": [
    "predict_df.iloc[1,0]"
   ]
  },
  {
   "cell_type": "code",
   "execution_count": 84,
   "metadata": {},
   "outputs": [],
   "source": [
    "#### function to optimize the p,q,d values ####\n",
    "#def objfunc(order, exog, endog):\n",
    "    #from statsmodels.tsa.arima_model import ARIMA\n",
    "    #fit = ARIMA(endog, order, exog).fit()\n",
    "    #return fit.aic()\n",
    "\n",
    "#from scipy.optimize import brute\n",
    "#grid = (slice(1, 3, 1), slice(1, 3, 1), slice(1, 3, 1))\n",
    "#brute(objfunc, grid, args=(exog, endog), finish=None)"
   ]
  },
  {
   "cell_type": "code",
   "execution_count": null,
   "metadata": {},
   "outputs": [],
   "source": []
  }
 ],
 "metadata": {
  "kernelspec": {
   "display_name": "Python 3",
   "language": "python",
   "name": "python3"
  },
  "language_info": {
   "codemirror_mode": {
    "name": "ipython",
    "version": 3
   },
   "file_extension": ".py",
   "mimetype": "text/x-python",
   "name": "python",
   "nbconvert_exporter": "python",
   "pygments_lexer": "ipython3",
   "version": "3.7.9"
  }
 },
 "nbformat": 4,
 "nbformat_minor": 4
}
