{
 "cells": [
  {
   "cell_type": "code",
   "execution_count": 3,
   "metadata": {},
   "outputs": [],
   "source": [
    "import pandas as pd\n",
    "from nasspython import nass_api as na\n",
    "# pip install nasspython: https://pypi.org/project/nasspython/\n",
    "from statsmodels.tsa.arima_model import ARIMA\n",
    "from pathlib import Path\n",
    "import datetime as dt\n"
   ]
  },
  {
   "cell_type": "code",
   "execution_count": 1,
   "metadata": {},
   "outputs": [],
   "source": [
    "#USDA_API_KEY = 'C6C2F629-A5BF-3F27-916A-4F15189AD588'\n",
    "\n",
    "##na.nass_count(USDA_API_KEY, state_name = \"NORTH CAROLINA\", county_name = \"WAKE\")\n",
    "##na.nass_param(USDA_API_KEY, param = \"short_desc\")\n",
    "##na.nass_data(USDA_API_KEY, year = 2012, agg_level_desc = \"COUNTY\",short_desc = \"AG LAND, INCL BUILDINGS - ASSET VALUE, MEASURED IN $\")\n",
    "\n",
    "## function inputs\n",
    "#state = 'MISSOURI'\n",
    "#start_yr = 2000\n",
    "#end_yr = 2020\n",
    "\n",
    "## create list for years\n",
    "#year_list = [start_yr]\n",
    "#year = start_yr\n",
    "#while year < end_yr:\n",
    "    #year += 1\n",
    "    #year_list.append(year)\n",
    "#year_list\n",
    "\n",
    "#vpa_list = []\n",
    "#for yr in year_list:\n",
    "    ## total acres: 'AG LAND, CROPLAND, HARVESTED - ACRES'\n",
    "    ## value per acre: 'AG LAND, CROPLAND - ASSET VALUE, MEASURED IN $ / ACRE'\n",
    "    #data = na.nass_data(USDA_API_KEY, year = yr, \n",
    "                        #agg_level_desc = \"STATE\", \n",
    "                        #short_desc = \"AG LAND, CROPLAND - ASSET VALUE, MEASURED IN $ / ACRE\"\n",
    "                       #)\n",
    "    #df = pd.DataFrame(data['data']).set_index(\"state_name\")\n",
    "    #vpa = df.loc[state,'Value']\n",
    "    \n",
    "    #vpaint = ''\n",
    "    #for char in vpa:\n",
    "        #if char.isdigit() == True:\n",
    "            #vpaint = vpaint + char\n",
    "    #vpa_list.append(int(vpaint))\n",
    "\n",
    "#df = pd.DataFrame({'Year':year_list,'$/acre':vpa_list}).set_index('Year')\n",
    "#df\n",
    "\n",
    "#df.plot()"
   ]
  },
  {
   "cell_type": "code",
   "execution_count": 173,
   "metadata": {},
   "outputs": [
    {
     "data": {
      "text/html": [
       "<div>\n",
       "<style scoped>\n",
       "    .dataframe tbody tr th:only-of-type {\n",
       "        vertical-align: middle;\n",
       "    }\n",
       "\n",
       "    .dataframe tbody tr th {\n",
       "        vertical-align: top;\n",
       "    }\n",
       "\n",
       "    .dataframe thead th {\n",
       "        text-align: right;\n",
       "    }\n",
       "</style>\n",
       "<table border=\"1\" class=\"dataframe\">\n",
       "  <thead>\n",
       "    <tr style=\"text-align: right;\">\n",
       "      <th></th>\n",
       "      <th>Price Per AC Land</th>\n",
       "    </tr>\n",
       "  </thead>\n",
       "  <tbody>\n",
       "    <tr>\n",
       "      <th>2021-02-25</th>\n",
       "      <td>9678.54</td>\n",
       "    </tr>\n",
       "    <tr>\n",
       "      <th>2021-02-25</th>\n",
       "      <td>94.94</td>\n",
       "    </tr>\n",
       "    <tr>\n",
       "      <th>2021-02-18</th>\n",
       "      <td>3000.00</td>\n",
       "    </tr>\n",
       "    <tr>\n",
       "      <th>2021-02-12</th>\n",
       "      <td>21857.92</td>\n",
       "    </tr>\n",
       "    <tr>\n",
       "      <th>2021-02-12</th>\n",
       "      <td>7603.10</td>\n",
       "    </tr>\n",
       "  </tbody>\n",
       "</table>\n",
       "</div>"
      ],
      "text/plain": [
       "            Price Per AC Land\n",
       "2021-02-25            9678.54\n",
       "2021-02-25              94.94\n",
       "2021-02-18            3000.00\n",
       "2021-02-12           21857.92\n",
       "2021-02-12            7603.10"
      ]
     },
     "execution_count": 173,
     "metadata": {},
     "output_type": "execute_result"
    }
   ],
   "source": [
    "land_sold_csv = Path(\"Ag_Land_Sold.csv\")\n",
    "land_forsale_csv = Path(\"Ag_Land_ForSale.csv\")\n",
    "land_sold_df = pd.read_csv(land_sold_csv)\n",
    "land_forsale_df = pd.read_csv(land_forsale_csv)\n",
    "land_sold_df = land_sold_df[land_sold_df['Sale Status'] == 'Sold']\n",
    "land_sold_df = land_sold_df[land_sold_df['Land Area AC'] >= 20]\n",
    "\n",
    "cols_to_drop = ['Property Address', 'Property City', 'Property State', 'Property Type',\n",
    "       'Land Area AC', 'Land Area SF', 'Star Rating', 'Sale Status', 'Asking Price',\n",
    "       'Price Per SF Land', 'Property Name', 'Buyer (True) Company',\n",
    "       'Buyer (True) Origin', 'Buyers Broker Company', 'Seller (True) Company',\n",
    "       'Seller (True) Origin', 'Listing Broker Company', 'Secondary Type',\n",
    "       'Zoning', 'Submarket Name', 'Location Type', 'Property County',\n",
    "       'Property Zip Code', 'Corner', 'Map Code', 'Recording Date',\n",
    "       'Publication Date', 'Non-Arms Length Reasons', 'Sale Price Comment',\n",
    "       'Research Status', 'Longitude', 'Latitude']\n",
    "\n",
    "land_sold_df.drop(columns = cols_to_drop, inplace = True)\n",
    "land_sold_df.dropna(inplace = True)\n",
    "land_sold_df.set_index('Sale Date', inplace = True)\n",
    "land_sold_df.index = pd.to_datetime(land_sold_df.index, utc=True).date\n",
    "\n",
    "ppaitemlist = []\n",
    "for item in land_sold_df['Price Per AC Land']:\n",
    "    vpaint = ''\n",
    "    for char in item:\n",
    "        if char.isdigit() == True:\n",
    "            vpaint = vpaint + char\n",
    "        elif char == '.':\n",
    "            vpaint = vpaint + char\n",
    "    ppaitemlist.append(float(vpaint))\n",
    "land_sold_df['Price Per AC Land'] = ppaitemlist\n",
    "\n",
    "spitemlist = []\n",
    "for item in land_sold_df['Sale Price']:\n",
    "    vpaint = ''\n",
    "    for char in item:\n",
    "        if char.isdigit() == True:\n",
    "            vpaint = vpaint + char\n",
    "        elif char == '.':\n",
    "            vpaint = vpaint + char\n",
    "    spitemlist.append(float(vpaint))\n",
    "land_sold_df['Sale Price'] = spitemlist\n",
    "\n",
    "\n",
    "land_sold_df = land_sold_df[land_sold_df['Price Per AC Land'] < land_sold_df['Sale Price']]\n",
    "land_sold_df.drop(columns = 'Sale Price', inplace = True)\n",
    "\n",
    "#land_sold_df[land_sold_df['Price Per AC Land'] == land_sold_df['Price Per AC Land'].max()]\n",
    "land_sold_df.head()"
   ]
  },
  {
   "cell_type": "code",
   "execution_count": 175,
   "metadata": {},
   "outputs": [],
   "source": [
    "##### steps needed #####\n",
    "# Bootstrap data for regular intervals\n",
    "# apply pct_change \n",
    "# auto-ARIMA to find best fitting AIC/BIC"
   ]
  },
  {
   "cell_type": "code",
   "execution_count": 146,
   "metadata": {},
   "outputs": [
    {
     "name": "stdout",
     "output_type": "stream",
     "text": [
      "Data Start Date 2019-03-01\n",
      "Data End Date 2021-02-25\n"
     ]
    },
    {
     "data": {
      "text/plain": [
       "<AxesSubplot:>"
      ]
     },
     "execution_count": 146,
     "metadata": {},
     "output_type": "execute_result"
    },
    {
     "data": {
      "image/png": "[encoded data removed]",
      "text/plain": [
       "<Figure size 432x288 with 1 Axes>"
      ]
     },
     "metadata": {
      "needs_background": "light"
     },
     "output_type": "display_data"
    }
   ],
   "source": [
    "print(f\"Data Start Date {land_sold_df.index.min()}\")\n",
    "print(f\"Data End Date {land_sold_df.index.max()}\")\n",
    "land_sold_df.plot()"
   ]
  },
  {
   "cell_type": "code",
   "execution_count": 171,
   "metadata": {},
   "outputs": [
    {
     "name": "stderr",
     "output_type": "stream",
     "text": [
      "C:\\Users\\adomenick\\anaconda3\\lib\\site-packages\\statsmodels\\tsa\\arima_model.py:472: FutureWarning: \n",
      "statsmodels.tsa.arima_model.ARMA and statsmodels.tsa.arima_model.ARIMA have\n",
      "been deprecated in favor of statsmodels.tsa.arima.model.ARIMA (note the .\n",
      "between arima and model) and\n",
      "statsmodels.tsa.SARIMAX. These will be removed after the 0.12 release.\n",
      "\n",
      "statsmodels.tsa.arima.model.ARIMA makes use of the statespace framework and\n",
      "is both well tested and maintained.\n",
      "\n",
      "To silence this warning and continue using ARMA and ARIMA until they are\n",
      "removed, use:\n",
      "\n",
      "import warnings\n",
      "warnings.filterwarnings('ignore', 'statsmodels.tsa.arima_model.ARMA',\n",
      "                        FutureWarning)\n",
      "warnings.filterwarnings('ignore', 'statsmodels.tsa.arima_model.ARIMA',\n",
      "                        FutureWarning)\n",
      "\n",
      "  warnings.warn(ARIMA_DEPRECATION_WARN, FutureWarning)\n",
      "C:\\Users\\adomenick\\anaconda3\\lib\\site-packages\\statsmodels\\tsa\\base\\tsa_model.py:583: ValueWarning: A date index has been provided, but it has no associated frequency information and so will be ignored when e.g. forecasting.\n",
      "  ' ignored when e.g. forecasting.', ValueWarning)\n",
      "C:\\Users\\adomenick\\anaconda3\\lib\\site-packages\\statsmodels\\tsa\\base\\tsa_model.py:587: ValueWarning: A date index has been provided, but it is not monotonic and so will be ignored when e.g. forecasting.\n",
      "  ' forecasting.', ValueWarning)\n"
     ]
    },
    {
     "data": {
      "text/html": [
       "<table class=\"simpletable\">\n",
       "<caption>ARMA Model Results</caption>\n",
       "<tr>\n",
       "  <th>Dep. Variable:</th> <td>Price Per AC Land</td> <th>  No. Observations:  </th>    <td>589</td>   \n",
       "</tr>\n",
       "<tr>\n",
       "  <th>Model:</th>            <td>ARMA(2, 0)</td>     <th>  Log Likelihood     </th> <td>-6421.341</td>\n",
       "</tr>\n",
       "<tr>\n",
       "  <th>Method:</th>             <td>css-mle</td>      <th>  S.D. of innovations</th> <td>13136.745</td>\n",
       "</tr>\n",
       "<tr>\n",
       "  <th>Date:</th>          <td>Sat, 13 Mar 2021</td>  <th>  AIC                </th> <td>12850.683</td>\n",
       "</tr>\n",
       "<tr>\n",
       "  <th>Time:</th>              <td>13:49:41</td>      <th>  BIC                </th> <td>12868.196</td>\n",
       "</tr>\n",
       "<tr>\n",
       "  <th>Sample:</th>                <td>0</td>         <th>  HQIC               </th> <td>12857.506</td>\n",
       "</tr>\n",
       "<tr>\n",
       "  <th></th>                       <td> </td>         <th>                     </th>     <td> </td>    \n",
       "</tr>\n",
       "</table>\n",
       "<table class=\"simpletable\">\n",
       "<tr>\n",
       "             <td></td>                <th>coef</th>     <th>std err</th>      <th>z</th>      <th>P>|z|</th>  <th>[0.025</th>    <th>0.975]</th>  \n",
       "</tr>\n",
       "<tr>\n",
       "  <th>const</th>                   <td> 6215.9106</td> <td>  558.449</td> <td>   11.131</td> <td> 0.000</td> <td> 5121.371</td> <td> 7310.451</td>\n",
       "</tr>\n",
       "<tr>\n",
       "  <th>ar.L1.Price Per AC Land</th> <td>    0.0197</td> <td>    0.041</td> <td>    0.479</td> <td> 0.632</td> <td>   -0.061</td> <td>    0.100</td>\n",
       "</tr>\n",
       "<tr>\n",
       "  <th>ar.L2.Price Per AC Land</th> <td>    0.0111</td> <td>    0.041</td> <td>    0.269</td> <td> 0.788</td> <td>   -0.070</td> <td>    0.092</td>\n",
       "</tr>\n",
       "</table>\n",
       "<table class=\"simpletable\">\n",
       "<caption>Roots</caption>\n",
       "<tr>\n",
       "    <td></td>   <th>            Real</th>  <th>         Imaginary</th> <th>         Modulus</th>  <th>        Frequency</th>\n",
       "</tr>\n",
       "<tr>\n",
       "  <th>AR.1</th> <td>           8.6530</td> <td>          +0.0000j</td> <td>           8.6530</td> <td>           0.0000</td>\n",
       "</tr>\n",
       "<tr>\n",
       "  <th>AR.2</th> <td>         -10.4331</td> <td>          +0.0000j</td> <td>          10.4331</td> <td>           0.5000</td>\n",
       "</tr>\n",
       "</table>"
      ],
      "text/plain": [
       "<class 'statsmodels.iolib.summary.Summary'>\n",
       "\"\"\"\n",
       "                              ARMA Model Results                              \n",
       "==============================================================================\n",
       "Dep. Variable:      Price Per AC Land   No. Observations:                  589\n",
       "Model:                     ARMA(2, 0)   Log Likelihood               -6421.341\n",
       "Method:                       css-mle   S.D. of innovations          13136.745\n",
       "Date:                Sat, 13 Mar 2021   AIC                          12850.683\n",
       "Time:                        13:49:41   BIC                          12868.196\n",
       "Sample:                             0   HQIC                         12857.506\n",
       "                                                                              \n",
       "===========================================================================================\n",
       "                              coef    std err          z      P>|z|      [0.025      0.975]\n",
       "-------------------------------------------------------------------------------------------\n",
       "const                    6215.9106    558.449     11.131      0.000    5121.371    7310.451\n",
       "ar.L1.Price Per AC Land     0.0197      0.041      0.479      0.632      -0.061       0.100\n",
       "ar.L2.Price Per AC Land     0.0111      0.041      0.269      0.788      -0.070       0.092\n",
       "                                    Roots                                    \n",
       "=============================================================================\n",
       "                  Real          Imaginary           Modulus         Frequency\n",
       "-----------------------------------------------------------------------------\n",
       "AR.1            8.6530           +0.0000j            8.6530            0.0000\n",
       "AR.2          -10.4331           +0.0000j           10.4331            0.5000\n",
       "-----------------------------------------------------------------------------\n",
       "\"\"\""
      ]
     },
     "execution_count": 171,
     "metadata": {},
     "output_type": "execute_result"
    }
   ],
   "source": [
    "# ARIMA Simple Exponential Smoothing\n",
    "model = ARIMA(land_sold_df, order=(2, 0, 0))\n",
    "results = model.fit()\n",
    "results.summary()"
   ]
  },
  {
   "cell_type": "code",
   "execution_count": 172,
   "metadata": {},
   "outputs": [
    {
     "data": {
      "text/plain": [
       "<AxesSubplot:title={'center':'Northeast Region Farmland $ Per Acre'}>"
      ]
     },
     "execution_count": 172,
     "metadata": {},
     "output_type": "execute_result"
    },
    {
     "data": {
      "image/png": "[encoded data removed]",
      "text/plain": [
       "<Figure size 432x288 with 1 Axes>"
      ]
     },
     "metadata": {
      "needs_background": "light"
     },
     "output_type": "display_data"
    }
   ],
   "source": [
    "pd.DataFrame(results.forecast(steps=2)[0]).plot(title=\"Northeast Region Farmland $ Per Acre\")"
   ]
  },
  {
   "cell_type": "code",
   "execution_count": null,
   "metadata": {},
   "outputs": [],
   "source": []
  }
 ],
 "metadata": {
  "kernelspec": {
   "display_name": "Python 3",
   "language": "python",
   "name": "python3"
  },
  "language_info": {
   "codemirror_mode": {
    "name": "ipython",
    "version": 3
   },
   "file_extension": ".py",
   "mimetype": "text/x-python",
   "name": "python",
   "nbconvert_exporter": "python",
   "pygments_lexer": "ipython3",
   "version": "3.7.9"
  }
 },
 "nbformat": 4,
 "nbformat_minor": 4
}
